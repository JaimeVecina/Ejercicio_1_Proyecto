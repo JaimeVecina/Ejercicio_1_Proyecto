{
 "cells": [
  {
   "cell_type": "markdown",
   "metadata": {},
   "source": [
    "# Ejercicio 1"
   ]
  },
  {
   "cell_type": "markdown",
   "metadata": {},
   "source": [
    "### Introducción¶\n",
    "\n",
    "Vamos a analizar un conjunto de datos de canciones y sus estadísticas por semanas: listas_musica.csv\n",
    "\n",
    "Es un conjunto de datos que nos permite trabajar los conceptos de pandas y numpy.\n",
    "\n",
    "El ejercicio será guiado aunque se permite no ver las soluciones para realizar las tareas.\n",
    "\n",
    "Las columnas del dataset son:\n",
    "\n",
    "- date: Tipo date - Fecha de la lista.\n",
    "- rank: Tipo int - Posición del ranking de la canción en esa fecha.\n",
    "- song: Tipo str - Nombre de la canción.\n",
    "- artist: Tipo str - Artista.\n",
    "- last-week: Tipo int - Posición en el ranking de la semana anterior.\n",
    "- peak-rank: Tipo int - La mejor posición de la canción en el ranking.\n",
    "- weeks-on-board: Tipo int - Número de semanas que la canción lleva en la lista."
   ]
  },
  {
   "cell_type": "markdown",
   "metadata": {},
   "source": [
    "### Carga de librerías¶\n",
    "\n",
    "Cargue las librerías numpy, pandas y os."
   ]
  },
  {
   "cell_type": "code",
   "execution_count": 1,
   "metadata": {},
   "outputs": [],
   "source": [
    "import numpy as np\n",
    "import pandas as pd\n",
    "import os"
   ]
  },
  {
   "cell_type": "markdown",
   "metadata": {},
   "source": [
    "### Carga del dataset¶\n",
    "\n",
    "Lea el dataset y conviértalo en un dataframe.\n",
    "\n",
    "Imprima el dataset una vez lo tenga."
   ]
  },
  {
   "cell_type": "code",
   "execution_count": 2,
   "metadata": {},
   "outputs": [],
   "source": [
    "df = pd.read_csv('listas_musica.csv')"
   ]
  },
  {
   "cell_type": "code",
   "execution_count": 3,
   "metadata": {},
   "outputs": [
    {
     "data": {
      "text/html": [
       "<div>\n",
       "<style scoped>\n",
       "    .dataframe tbody tr th:only-of-type {\n",
       "        vertical-align: middle;\n",
       "    }\n",
       "\n",
       "    .dataframe tbody tr th {\n",
       "        vertical-align: top;\n",
       "    }\n",
       "\n",
       "    .dataframe thead th {\n",
       "        text-align: right;\n",
       "    }\n",
       "</style>\n",
       "<table border=\"1\" class=\"dataframe\">\n",
       "  <thead>\n",
       "    <tr style=\"text-align: right;\">\n",
       "      <th></th>\n",
       "      <th>date</th>\n",
       "      <th>rank</th>\n",
       "      <th>song</th>\n",
       "      <th>artist</th>\n",
       "      <th>last-week</th>\n",
       "      <th>peak-rank</th>\n",
       "      <th>weeks-on-board</th>\n",
       "    </tr>\n",
       "  </thead>\n",
       "  <tbody>\n",
       "    <tr>\n",
       "      <th>0</th>\n",
       "      <td>2021-11-06</td>\n",
       "      <td>1</td>\n",
       "      <td>Easy On Me</td>\n",
       "      <td>Adele</td>\n",
       "      <td>1.0</td>\n",
       "      <td>1</td>\n",
       "      <td>3</td>\n",
       "    </tr>\n",
       "    <tr>\n",
       "      <th>1</th>\n",
       "      <td>2021-11-06</td>\n",
       "      <td>2</td>\n",
       "      <td>Stay</td>\n",
       "      <td>The Kid LAROI &amp; Justin Bieber</td>\n",
       "      <td>2.0</td>\n",
       "      <td>1</td>\n",
       "      <td>16</td>\n",
       "    </tr>\n",
       "    <tr>\n",
       "      <th>2</th>\n",
       "      <td>2021-11-06</td>\n",
       "      <td>3</td>\n",
       "      <td>Industry Baby</td>\n",
       "      <td>Lil Nas X &amp; Jack Harlow</td>\n",
       "      <td>3.0</td>\n",
       "      <td>1</td>\n",
       "      <td>14</td>\n",
       "    </tr>\n",
       "    <tr>\n",
       "      <th>3</th>\n",
       "      <td>2021-11-06</td>\n",
       "      <td>4</td>\n",
       "      <td>Fancy Like</td>\n",
       "      <td>Walker Hayes</td>\n",
       "      <td>4.0</td>\n",
       "      <td>3</td>\n",
       "      <td>19</td>\n",
       "    </tr>\n",
       "    <tr>\n",
       "      <th>4</th>\n",
       "      <td>2021-11-06</td>\n",
       "      <td>5</td>\n",
       "      <td>Bad Habits</td>\n",
       "      <td>Ed Sheeran</td>\n",
       "      <td>5.0</td>\n",
       "      <td>2</td>\n",
       "      <td>18</td>\n",
       "    </tr>\n",
       "    <tr>\n",
       "      <th>...</th>\n",
       "      <td>...</td>\n",
       "      <td>...</td>\n",
       "      <td>...</td>\n",
       "      <td>...</td>\n",
       "      <td>...</td>\n",
       "      <td>...</td>\n",
       "      <td>...</td>\n",
       "    </tr>\n",
       "    <tr>\n",
       "      <th>330082</th>\n",
       "      <td>1958-08-04</td>\n",
       "      <td>96</td>\n",
       "      <td>Over And Over</td>\n",
       "      <td>Thurston Harris</td>\n",
       "      <td>NaN</td>\n",
       "      <td>96</td>\n",
       "      <td>1</td>\n",
       "    </tr>\n",
       "    <tr>\n",
       "      <th>330083</th>\n",
       "      <td>1958-08-04</td>\n",
       "      <td>97</td>\n",
       "      <td>I Believe In You</td>\n",
       "      <td>Robert &amp; Johnny</td>\n",
       "      <td>NaN</td>\n",
       "      <td>97</td>\n",
       "      <td>1</td>\n",
       "    </tr>\n",
       "    <tr>\n",
       "      <th>330084</th>\n",
       "      <td>1958-08-04</td>\n",
       "      <td>98</td>\n",
       "      <td>Little Serenade</td>\n",
       "      <td>The Ames Brothers</td>\n",
       "      <td>NaN</td>\n",
       "      <td>98</td>\n",
       "      <td>1</td>\n",
       "    </tr>\n",
       "    <tr>\n",
       "      <th>330085</th>\n",
       "      <td>1958-08-04</td>\n",
       "      <td>99</td>\n",
       "      <td>I'll Get By (As Long As I Have You)</td>\n",
       "      <td>Billy Williams</td>\n",
       "      <td>NaN</td>\n",
       "      <td>99</td>\n",
       "      <td>1</td>\n",
       "    </tr>\n",
       "    <tr>\n",
       "      <th>330086</th>\n",
       "      <td>1958-08-04</td>\n",
       "      <td>100</td>\n",
       "      <td>Judy</td>\n",
       "      <td>Frankie Vaughan</td>\n",
       "      <td>NaN</td>\n",
       "      <td>100</td>\n",
       "      <td>1</td>\n",
       "    </tr>\n",
       "  </tbody>\n",
       "</table>\n",
       "<p>330087 rows × 7 columns</p>\n",
       "</div>"
      ],
      "text/plain": [
       "              date  rank                                 song  \\\n",
       "0       2021-11-06     1                           Easy On Me   \n",
       "1       2021-11-06     2                                 Stay   \n",
       "2       2021-11-06     3                        Industry Baby   \n",
       "3       2021-11-06     4                           Fancy Like   \n",
       "4       2021-11-06     5                           Bad Habits   \n",
       "...            ...   ...                                  ...   \n",
       "330082  1958-08-04    96                        Over And Over   \n",
       "330083  1958-08-04    97                     I Believe In You   \n",
       "330084  1958-08-04    98                      Little Serenade   \n",
       "330085  1958-08-04    99  I'll Get By (As Long As I Have You)   \n",
       "330086  1958-08-04   100                                 Judy   \n",
       "\n",
       "                               artist  last-week  peak-rank  weeks-on-board  \n",
       "0                               Adele        1.0          1               3  \n",
       "1       The Kid LAROI & Justin Bieber        2.0          1              16  \n",
       "2             Lil Nas X & Jack Harlow        3.0          1              14  \n",
       "3                        Walker Hayes        4.0          3              19  \n",
       "4                          Ed Sheeran        5.0          2              18  \n",
       "...                               ...        ...        ...             ...  \n",
       "330082                Thurston Harris        NaN         96               1  \n",
       "330083                Robert & Johnny        NaN         97               1  \n",
       "330084              The Ames Brothers        NaN         98               1  \n",
       "330085                 Billy Williams        NaN         99               1  \n",
       "330086                Frankie Vaughan        NaN        100               1  \n",
       "\n",
       "[330087 rows x 7 columns]"
      ]
     },
     "execution_count": 3,
     "metadata": {},
     "output_type": "execute_result"
    }
   ],
   "source": [
    "df"
   ]
  },
  {
   "cell_type": "markdown",
   "metadata": {},
   "source": [
    "### Limpieza de datos¶\n",
    "\n",
    "Rellene con 0 usando fillna()."
   ]
  },
  {
   "cell_type": "code",
   "execution_count": 4,
   "metadata": {},
   "outputs": [
    {
     "data": {
      "text/plain": [
       "date                  0\n",
       "rank                  0\n",
       "song                  0\n",
       "artist                0\n",
       "last-week         32312\n",
       "peak-rank             0\n",
       "weeks-on-board        0\n",
       "dtype: int64"
      ]
     },
     "execution_count": 4,
     "metadata": {},
     "output_type": "execute_result"
    }
   ],
   "source": [
    "df.isnull().sum() # Para conocer los valores nulos"
   ]
  },
  {
   "cell_type": "code",
   "execution_count": 5,
   "metadata": {},
   "outputs": [
    {
     "data": {
      "text/plain": [
       "date              0.000000\n",
       "rank              0.000000\n",
       "song              0.000000\n",
       "artist            0.000000\n",
       "last-week         9.788934\n",
       "peak-rank         0.000000\n",
       "weeks-on-board    0.000000\n",
       "dtype: float64"
      ]
     },
     "execution_count": 5,
     "metadata": {},
     "output_type": "execute_result"
    }
   ],
   "source": [
    "# Sacamos el % de nulos\n",
    "def saber_nulos(df):\n",
    "    return df.isnull().sum()*100/df.shape[0]\n",
    "\n",
    "saber_nulos(df)"
   ]
  },
  {
   "cell_type": "code",
   "execution_count": 6,
   "metadata": {},
   "outputs": [],
   "source": [
    "df1 = df.fillna('0') # Rellenamos con 0 los valores nulos"
   ]
  },
  {
   "cell_type": "markdown",
   "metadata": {},
   "source": [
    "### Imprima algunos valores de ejemplos¶\n",
    "\n",
    "Use tail() para imprimir algunos valores.\n",
    "\n",
    "Fíjese en las columnas del dataset."
   ]
  },
  {
   "cell_type": "code",
   "execution_count": 7,
   "metadata": {},
   "outputs": [
    {
     "data": {
      "text/html": [
       "<div>\n",
       "<style scoped>\n",
       "    .dataframe tbody tr th:only-of-type {\n",
       "        vertical-align: middle;\n",
       "    }\n",
       "\n",
       "    .dataframe tbody tr th {\n",
       "        vertical-align: top;\n",
       "    }\n",
       "\n",
       "    .dataframe thead th {\n",
       "        text-align: right;\n",
       "    }\n",
       "</style>\n",
       "<table border=\"1\" class=\"dataframe\">\n",
       "  <thead>\n",
       "    <tr style=\"text-align: right;\">\n",
       "      <th></th>\n",
       "      <th>date</th>\n",
       "      <th>rank</th>\n",
       "      <th>song</th>\n",
       "      <th>artist</th>\n",
       "      <th>last-week</th>\n",
       "      <th>peak-rank</th>\n",
       "      <th>weeks-on-board</th>\n",
       "    </tr>\n",
       "  </thead>\n",
       "  <tbody>\n",
       "    <tr>\n",
       "      <th>330082</th>\n",
       "      <td>1958-08-04</td>\n",
       "      <td>96</td>\n",
       "      <td>Over And Over</td>\n",
       "      <td>Thurston Harris</td>\n",
       "      <td>0</td>\n",
       "      <td>96</td>\n",
       "      <td>1</td>\n",
       "    </tr>\n",
       "    <tr>\n",
       "      <th>330083</th>\n",
       "      <td>1958-08-04</td>\n",
       "      <td>97</td>\n",
       "      <td>I Believe In You</td>\n",
       "      <td>Robert &amp; Johnny</td>\n",
       "      <td>0</td>\n",
       "      <td>97</td>\n",
       "      <td>1</td>\n",
       "    </tr>\n",
       "    <tr>\n",
       "      <th>330084</th>\n",
       "      <td>1958-08-04</td>\n",
       "      <td>98</td>\n",
       "      <td>Little Serenade</td>\n",
       "      <td>The Ames Brothers</td>\n",
       "      <td>0</td>\n",
       "      <td>98</td>\n",
       "      <td>1</td>\n",
       "    </tr>\n",
       "    <tr>\n",
       "      <th>330085</th>\n",
       "      <td>1958-08-04</td>\n",
       "      <td>99</td>\n",
       "      <td>I'll Get By (As Long As I Have You)</td>\n",
       "      <td>Billy Williams</td>\n",
       "      <td>0</td>\n",
       "      <td>99</td>\n",
       "      <td>1</td>\n",
       "    </tr>\n",
       "    <tr>\n",
       "      <th>330086</th>\n",
       "      <td>1958-08-04</td>\n",
       "      <td>100</td>\n",
       "      <td>Judy</td>\n",
       "      <td>Frankie Vaughan</td>\n",
       "      <td>0</td>\n",
       "      <td>100</td>\n",
       "      <td>1</td>\n",
       "    </tr>\n",
       "  </tbody>\n",
       "</table>\n",
       "</div>"
      ],
      "text/plain": [
       "              date  rank                                 song  \\\n",
       "330082  1958-08-04    96                        Over And Over   \n",
       "330083  1958-08-04    97                     I Believe In You   \n",
       "330084  1958-08-04    98                      Little Serenade   \n",
       "330085  1958-08-04    99  I'll Get By (As Long As I Have You)   \n",
       "330086  1958-08-04   100                                 Judy   \n",
       "\n",
       "                   artist last-week  peak-rank  weeks-on-board  \n",
       "330082    Thurston Harris         0         96               1  \n",
       "330083    Robert & Johnny         0         97               1  \n",
       "330084  The Ames Brothers         0         98               1  \n",
       "330085     Billy Williams         0         99               1  \n",
       "330086    Frankie Vaughan         0        100               1  "
      ]
     },
     "execution_count": 7,
     "metadata": {},
     "output_type": "execute_result"
    }
   ],
   "source": [
    "df1.tail()"
   ]
  },
  {
   "cell_type": "markdown",
   "metadata": {},
   "source": [
    "### Calcule los top 30 artistas¶\n",
    "\n",
    "Puede usar la función value_counts() y head(...).\n",
    "\n",
    "Fíjese en usar la columna correspondiente."
   ]
  },
  {
   "cell_type": "code",
   "execution_count": 8,
   "metadata": {},
   "outputs": [
    {
     "data": {
      "text/plain": [
       "Index(['date', 'rank', 'song', 'artist', 'last-week', 'peak-rank',\n",
       "       'weeks-on-board'],\n",
       "      dtype='object')"
      ]
     },
     "execution_count": 8,
     "metadata": {},
     "output_type": "execute_result"
    }
   ],
   "source": [
    "df1.columns"
   ]
  },
  {
   "cell_type": "code",
   "execution_count": 9,
   "metadata": {},
   "outputs": [
    {
     "data": {
      "text/plain": [
       "artist\n",
       "Taylor Swift             1023\n",
       "Elton John                889\n",
       "Madonna                   857\n",
       "Drake                     787\n",
       "Kenny Chesney             769\n",
       "Tim McGraw                731\n",
       "Keith Urban               673\n",
       "Stevie Wonder             659\n",
       "Rod Stewart               657\n",
       "Mariah Carey              621\n",
       "Michael Jackson           611\n",
       "Chicago                   607\n",
       "Rascal Flatts             604\n",
       "Billy Joel                588\n",
       "The Rolling Stones        585\n",
       "The Beatles               585\n",
       "Jason Aldean              572\n",
       "Aretha Franklin           569\n",
       "Rihanna                   566\n",
       "P!nk                      564\n",
       "Whitney Houston           561\n",
       "Brad Paisley              559\n",
       "Neil Diamond              553\n",
       "George Strait             553\n",
       "Luke Bryan                543\n",
       "Carrie Underwood          541\n",
       "Daryl Hall John Oates     540\n",
       "The Beach Boys            531\n",
       "Toby Keith                526\n",
       "Bee Gees                  516\n",
       "Name: count, dtype: int64"
      ]
     },
     "execution_count": 9,
     "metadata": {},
     "output_type": "execute_result"
    }
   ],
   "source": [
    "df1['artist'].value_counts().head(30)"
   ]
  },
  {
   "cell_type": "markdown",
   "metadata": {},
   "source": [
    "### Muestre el top 15 de canciones junto con su cantante¶"
   ]
  },
  {
   "cell_type": "code",
   "execution_count": 10,
   "metadata": {},
   "outputs": [
    {
     "data": {
      "text/plain": [
       "Index(['date', 'rank', 'song', 'artist', 'last-week', 'peak-rank',\n",
       "       'weeks-on-board'],\n",
       "      dtype='object')"
      ]
     },
     "execution_count": 10,
     "metadata": {},
     "output_type": "execute_result"
    }
   ],
   "source": [
    "df1.columns"
   ]
  },
  {
   "cell_type": "code",
   "execution_count": 11,
   "metadata": {},
   "outputs": [
    {
     "name": "stdout",
     "output_type": "stream",
     "text": [
      "0                                   Easy On Me Adele\n",
      "1                 Stay The Kid LAROI & Justin Bieber\n",
      "2              Industry Baby Lil Nas X & Jack Harlow\n",
      "3                            Fancy Like Walker Hayes\n",
      "4                              Bad Habits Ed Sheeran\n",
      "5     Way 2 Sexy Drake Featuring Future & Young Thug\n",
      "6                                 Shivers Ed Sheeran\n",
      "7                            Good 4 U Olivia Rodrigo\n",
      "8                              Need To Know Doja Cat\n",
      "9                                Levitating Dua Lipa\n",
      "10     Essence Wizkid Featuring Justin Bieber & Tems\n",
      "11               Kiss Me More Doja Cat Featuring SZA\n",
      "12                          Heat Waves Glass Animals\n",
      "13                                  Beggin' Maneskin\n",
      "14     Cold Heart (PNAU Remix) Elton John & Dua Lipa\n",
      "dtype: object\n"
     ]
    }
   ],
   "source": [
    "Suma_columnas = df1['song'] + ' ' + df1['artist']\n",
    "top_15_canciones = Suma_columnas.head(15)\n",
    "print(top_15_canciones)"
   ]
  },
  {
   "cell_type": "markdown",
   "metadata": {},
   "source": [
    "### Muestre el top 10 de los artistas, canciones y su mejor posición"
   ]
  },
  {
   "cell_type": "code",
   "execution_count": 63,
   "metadata": {},
   "outputs": [
    {
     "name": "stdout",
     "output_type": "stream",
     "text": [
      "artist                                     song                     peak-rank\n",
      "The Weeknd                                 Blinding Lights          1            74\n",
      "Ed Sheeran                                 Shape Of You             1            58\n",
      "Jason Mraz                                 I'm Yours                6            56\n",
      "LMFAO Featuring Lauren Bennett & GoonRock  Party Rock Anthem        1            54\n",
      "The Black Eyed Peas                        I Gotta Feeling          1            54\n",
      "Justin Timberlake                          Can't Stop The Feeling!  1            52\n",
      "Taylor Swift                               Shake It Off             1            50\n",
      "The Chainsmokers Featuring Halsey          Closer                   1            50\n",
      "Post Malone                                Circles                  1            50\n",
      "Mark Ronson Featuring Bruno Mars           Uptown Funk!             1            49\n",
      "Name: count, dtype: int64\n"
     ]
    }
   ],
   "source": [
    "top_10 = df[['artist', 'song', 'peak-rank']].value_counts().head(10)\n",
    "print(top_10)"
   ]
  },
  {
   "cell_type": "code",
   "execution_count": 67,
   "metadata": {},
   "outputs": [
    {
     "name": "stdout",
     "output_type": "stream",
     "text": [
      "date\n",
      "2021-11-06                                  AdeleEasy On Me - 1\n",
      "2021-11-06                The Kid LAROI & Justin BieberStay - 1\n",
      "2021-11-06             Lil Nas X & Jack HarlowIndustry Baby - 1\n",
      "2021-11-06                           Walker HayesFancy Like - 3\n",
      "2021-11-06                             Ed SheeranBad Habits - 2\n",
      "2021-11-06    Drake Featuring Future & Young ThugWay 2 Sexy - 1\n",
      "2021-11-06                                Ed SheeranShivers - 7\n",
      "2021-11-06                           Olivia RodrigoGood 4 U - 1\n",
      "2021-11-06                             Doja CatNeed To Know - 9\n",
      "2021-11-06                               Dua LipaLevitating - 2\n",
      "dtype: object\n"
     ]
    }
   ],
   "source": [
    "Suma_columnas2 = df1['artist'] + '' + df1['song'] + ' - ' + df1['peak-rank'].astype(str)\n",
    "top_10_opcion_2 = Suma_columnas2.head(10)\n",
    "print(top_10_opcion_2)"
   ]
  },
  {
   "cell_type": "markdown",
   "metadata": {},
   "source": [
    "### Artistas más reproducidos por semanas¶\n",
    "\n",
    "Transforme la columna date en datetime.\n",
    "\n",
    "Use set_index para crear un índice en la columna date.\n",
    "\n",
    "Imprima el dataframe con el nuevo índice."
   ]
  },
  {
   "cell_type": "code",
   "execution_count": 68,
   "metadata": {},
   "outputs": [
    {
     "data": {
      "text/plain": [
       "Index(['rank', 'song', 'artist', 'last-week', 'peak-rank', 'weeks-on-board'], dtype='object')"
      ]
     },
     "execution_count": 68,
     "metadata": {},
     "output_type": "execute_result"
    }
   ],
   "source": [
    "df1.columns"
   ]
  },
  {
   "cell_type": "code",
   "execution_count": 14,
   "metadata": {},
   "outputs": [],
   "source": [
    "df1['date'] = pd.to_datetime(df1['date'])\n",
    "\n",
    "df1.set_index('date', inplace=True)\n"
   ]
  },
  {
   "cell_type": "code",
   "execution_count": 69,
   "metadata": {},
   "outputs": [
    {
     "data": {
      "text/html": [
       "<div>\n",
       "<style scoped>\n",
       "    .dataframe tbody tr th:only-of-type {\n",
       "        vertical-align: middle;\n",
       "    }\n",
       "\n",
       "    .dataframe tbody tr th {\n",
       "        vertical-align: top;\n",
       "    }\n",
       "\n",
       "    .dataframe thead th {\n",
       "        text-align: right;\n",
       "    }\n",
       "</style>\n",
       "<table border=\"1\" class=\"dataframe\">\n",
       "  <thead>\n",
       "    <tr style=\"text-align: right;\">\n",
       "      <th></th>\n",
       "      <th>rank</th>\n",
       "      <th>song</th>\n",
       "      <th>artist</th>\n",
       "      <th>last-week</th>\n",
       "      <th>peak-rank</th>\n",
       "      <th>weeks-on-board</th>\n",
       "    </tr>\n",
       "    <tr>\n",
       "      <th>date</th>\n",
       "      <th></th>\n",
       "      <th></th>\n",
       "      <th></th>\n",
       "      <th></th>\n",
       "      <th></th>\n",
       "      <th></th>\n",
       "    </tr>\n",
       "  </thead>\n",
       "  <tbody>\n",
       "    <tr>\n",
       "      <th>2021-11-06</th>\n",
       "      <td>1</td>\n",
       "      <td>Easy On Me</td>\n",
       "      <td>Adele</td>\n",
       "      <td>1.0</td>\n",
       "      <td>1</td>\n",
       "      <td>3</td>\n",
       "    </tr>\n",
       "    <tr>\n",
       "      <th>2021-11-06</th>\n",
       "      <td>2</td>\n",
       "      <td>Stay</td>\n",
       "      <td>The Kid LAROI &amp; Justin Bieber</td>\n",
       "      <td>2.0</td>\n",
       "      <td>1</td>\n",
       "      <td>16</td>\n",
       "    </tr>\n",
       "    <tr>\n",
       "      <th>2021-11-06</th>\n",
       "      <td>3</td>\n",
       "      <td>Industry Baby</td>\n",
       "      <td>Lil Nas X &amp; Jack Harlow</td>\n",
       "      <td>3.0</td>\n",
       "      <td>1</td>\n",
       "      <td>14</td>\n",
       "    </tr>\n",
       "    <tr>\n",
       "      <th>2021-11-06</th>\n",
       "      <td>4</td>\n",
       "      <td>Fancy Like</td>\n",
       "      <td>Walker Hayes</td>\n",
       "      <td>4.0</td>\n",
       "      <td>3</td>\n",
       "      <td>19</td>\n",
       "    </tr>\n",
       "    <tr>\n",
       "      <th>2021-11-06</th>\n",
       "      <td>5</td>\n",
       "      <td>Bad Habits</td>\n",
       "      <td>Ed Sheeran</td>\n",
       "      <td>5.0</td>\n",
       "      <td>2</td>\n",
       "      <td>18</td>\n",
       "    </tr>\n",
       "    <tr>\n",
       "      <th>...</th>\n",
       "      <td>...</td>\n",
       "      <td>...</td>\n",
       "      <td>...</td>\n",
       "      <td>...</td>\n",
       "      <td>...</td>\n",
       "      <td>...</td>\n",
       "    </tr>\n",
       "    <tr>\n",
       "      <th>1958-08-04</th>\n",
       "      <td>96</td>\n",
       "      <td>Over And Over</td>\n",
       "      <td>Thurston Harris</td>\n",
       "      <td>0</td>\n",
       "      <td>96</td>\n",
       "      <td>1</td>\n",
       "    </tr>\n",
       "    <tr>\n",
       "      <th>1958-08-04</th>\n",
       "      <td>97</td>\n",
       "      <td>I Believe In You</td>\n",
       "      <td>Robert &amp; Johnny</td>\n",
       "      <td>0</td>\n",
       "      <td>97</td>\n",
       "      <td>1</td>\n",
       "    </tr>\n",
       "    <tr>\n",
       "      <th>1958-08-04</th>\n",
       "      <td>98</td>\n",
       "      <td>Little Serenade</td>\n",
       "      <td>The Ames Brothers</td>\n",
       "      <td>0</td>\n",
       "      <td>98</td>\n",
       "      <td>1</td>\n",
       "    </tr>\n",
       "    <tr>\n",
       "      <th>1958-08-04</th>\n",
       "      <td>99</td>\n",
       "      <td>I'll Get By (As Long As I Have You)</td>\n",
       "      <td>Billy Williams</td>\n",
       "      <td>0</td>\n",
       "      <td>99</td>\n",
       "      <td>1</td>\n",
       "    </tr>\n",
       "    <tr>\n",
       "      <th>1958-08-04</th>\n",
       "      <td>100</td>\n",
       "      <td>Judy</td>\n",
       "      <td>Frankie Vaughan</td>\n",
       "      <td>0</td>\n",
       "      <td>100</td>\n",
       "      <td>1</td>\n",
       "    </tr>\n",
       "  </tbody>\n",
       "</table>\n",
       "<p>330087 rows × 6 columns</p>\n",
       "</div>"
      ],
      "text/plain": [
       "            rank                                 song  \\\n",
       "date                                                    \n",
       "2021-11-06     1                           Easy On Me   \n",
       "2021-11-06     2                                 Stay   \n",
       "2021-11-06     3                        Industry Baby   \n",
       "2021-11-06     4                           Fancy Like   \n",
       "2021-11-06     5                           Bad Habits   \n",
       "...          ...                                  ...   \n",
       "1958-08-04    96                        Over And Over   \n",
       "1958-08-04    97                     I Believe In You   \n",
       "1958-08-04    98                      Little Serenade   \n",
       "1958-08-04    99  I'll Get By (As Long As I Have You)   \n",
       "1958-08-04   100                                 Judy   \n",
       "\n",
       "                                   artist last-week  peak-rank  weeks-on-board  \n",
       "date                                                                            \n",
       "2021-11-06                          Adele       1.0          1               3  \n",
       "2021-11-06  The Kid LAROI & Justin Bieber       2.0          1              16  \n",
       "2021-11-06        Lil Nas X & Jack Harlow       3.0          1              14  \n",
       "2021-11-06                   Walker Hayes       4.0          3              19  \n",
       "2021-11-06                     Ed Sheeran       5.0          2              18  \n",
       "...                                   ...       ...        ...             ...  \n",
       "1958-08-04                Thurston Harris         0         96               1  \n",
       "1958-08-04                Robert & Johnny         0         97               1  \n",
       "1958-08-04              The Ames Brothers         0         98               1  \n",
       "1958-08-04                 Billy Williams         0         99               1  \n",
       "1958-08-04                Frankie Vaughan         0        100               1  \n",
       "\n",
       "[330087 rows x 6 columns]"
      ]
     },
     "execution_count": 69,
     "metadata": {},
     "output_type": "execute_result"
    }
   ],
   "source": [
    "df1"
   ]
  },
  {
   "cell_type": "code",
   "execution_count": 72,
   "metadata": {},
   "outputs": [
    {
     "name": "stdout",
     "output_type": "stream",
     "text": [
      "date                   artist                              \n",
      "1958-08-04/1958-08-10  Dean Martin                             3\n",
      "                       Bobby Freeman                           2\n",
      "                       Jack Scott                              2\n",
      "                       Pat Boone                               2\n",
      "                       Eydie Gorme                             2\n",
      "                                                              ..\n",
      "2021-11-01/2021-11-07  Jon Pardi                               1\n",
      "                       Jimmie Allen & Brad Paisley             1\n",
      "                       Jason Aldean & Carrie Underwood         1\n",
      "                       Jameson Rodgers Featuring Luke Combs    1\n",
      "                       Zac Brown Band                          1\n",
      "Name: artist, Length: 306328, dtype: int64\n"
     ]
    }
   ],
   "source": [
    "artistas_por_semana = df1.groupby(df1.index.to_period('W')).agg({'artist': 'value_counts'})\n",
    "print(artistas_por_semana[ 'artist'])"
   ]
  },
  {
   "cell_type": "markdown",
   "metadata": {},
   "source": [
    "### Encuentre los más y menos escuchados según un intervalo de tiempo¶\n",
    "\n",
    "Puede usar resample(frecuencia)[columna].\n",
    "\n",
    "Las frecuencias que puede usar son:\n",
    "\n",
    "- H - Horaria\n",
    "- D - Diaria\n",
    "- W - Semanal\n",
    "- M - Mensual\n",
    "- A - Anual\n",
    "\n",
    "Puede usar .agg([columnas]) para agregar los datos"
   ]
  },
  {
   "cell_type": "code",
   "execution_count": 59,
   "metadata": {},
   "outputs": [
    {
     "data": {
      "text/plain": [
       "Index(['rank', 'song', 'artist', 'last-week', 'peak-rank', 'weeks-on-board'], dtype='object')"
      ]
     },
     "execution_count": 59,
     "metadata": {},
     "output_type": "execute_result"
    }
   ],
   "source": [
    "df1.columns"
   ]
  }
 ],
 "metadata": {
  "kernelspec": {
   "display_name": "Python 3",
   "language": "python",
   "name": "python3"
  },
  "language_info": {
   "codemirror_mode": {
    "name": "ipython",
    "version": 3
   },
   "file_extension": ".py",
   "mimetype": "text/x-python",
   "name": "python",
   "nbconvert_exporter": "python",
   "pygments_lexer": "ipython3",
   "version": "3.11.5"
  }
 },
 "nbformat": 4,
 "nbformat_minor": 2
}
